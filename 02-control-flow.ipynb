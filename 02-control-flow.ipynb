{
 "cells": [
  {
   "cell_type": "markdown",
   "id": "unlikely-airport",
   "metadata": {},
   "source": [
    "# Control Flow"
   ]
  },
  {
   "cell_type": "code",
   "execution_count": 4,
   "id": "guided-fleet",
   "metadata": {},
   "outputs": [
    {
     "data": {
      "text/plain": [
       "1-element Vector{Function}:\n",
       " format_current_cell (generic function with 1 method)"
      ]
     },
     "execution_count": 4,
     "metadata": {},
     "output_type": "execute_result"
    }
   ],
   "source": [
    "using JupyterFormatter\n",
    "enable_autoformat()"
   ]
  },
  {
   "cell_type": "code",
   "execution_count": 5,
   "id": "universal-success",
   "metadata": {},
   "outputs": [
    {
     "name": "stdout",
     "output_type": "stream",
     "text": [
      "1 x 2 is 2\n",
      "1 x 3 is 3\n",
      "1 x 4 is 4\n",
      "2 x 2 is 4\n",
      "2 x 3 is 6\n",
      "2 x 4 is 8\n"
     ]
    }
   ],
   "source": [
    "for i = 1:2, j = 2:4\n",
    "    println(\"$i x $j is $(i * j)\")\n",
    "end"
   ]
  },
  {
   "cell_type": "code",
   "execution_count": 7,
   "id": "ongoing-story",
   "metadata": {},
   "outputs": [
    {
     "data": {
      "text/plain": [
       "5-element Vector{Int64}:\n",
       "  2\n",
       "  4\n",
       "  6\n",
       "  8\n",
       " 10"
      ]
     },
     "execution_count": 7,
     "metadata": {},
     "output_type": "execute_result"
    }
   ],
   "source": [
    "[i * 2 for i = 1:5]"
   ]
  },
  {
   "cell_type": "code",
   "execution_count": 8,
   "id": "introductory-synthetic",
   "metadata": {},
   "outputs": [
    {
     "data": {
      "text/plain": [
       "3×3 Matrix{Int64}:\n",
       " 12  14  16\n",
       " 22  24  26\n",
       " 32  34  36"
      ]
     },
     "execution_count": 8,
     "metadata": {},
     "output_type": "execute_result"
    }
   ],
   "source": [
    "[x + 2y for x in [10, 20, 30], y in [1, 2, 3]]"
   ]
  },
  {
   "cell_type": "code",
   "execution_count": 10,
   "id": "adopted-station",
   "metadata": {},
   "outputs": [
    {
     "data": {
      "text/plain": [
       "Dict{Any, Any} with 5 entries:\n",
       "  5 => 5\n",
       "  4 => 4\n",
       "  2 => 2\n",
       "  3 => 3\n",
       "  1 => 1"
      ]
     },
     "execution_count": 10,
     "metadata": {},
     "output_type": "execute_result"
    }
   ],
   "source": [
    "d = Dict()\n",
    "[d[i] = value for (i, value) in enumerate(1:5)]\n",
    "d"
   ]
  },
  {
   "cell_type": "code",
   "execution_count": 14,
   "id": "verified-association",
   "metadata": {},
   "outputs": [
    {
     "data": {
      "text/plain": [
       "Dict{Any, Any} with 2 entries:\n",
       "  \"alice\" => 'f'\n",
       "  \"bob\"   => 'm'"
      ]
     },
     "execution_count": 14,
     "metadata": {},
     "output_type": "execute_result"
    }
   ],
   "source": [
    "names = [\"alice\", \"bob\"]\n",
    "sexes = ['f', 'm']\n",
    "\n",
    "students = Dict()\n",
    "[students[name] = sex for (name, sex) in zip(names, sexes)]\n",
    "students"
   ]
  },
  {
   "cell_type": "code",
   "execution_count": 16,
   "id": "going-colon",
   "metadata": {},
   "outputs": [
    {
     "name": "stdout",
     "output_type": "stream",
     "text": [
      "Dict{Any, Any}()"
     ]
    },
    {
     "data": {
      "text/plain": [
       "Dict{Any, Any} with 2 entries:\n",
       "  \"alice\" => 'f'\n",
       "  \"bob\"   => 'm'"
      ]
     },
     "execution_count": 16,
     "metadata": {},
     "output_type": "execute_result"
    }
   ],
   "source": [
    "empty!(students)\n",
    "print(students)\n",
    "map((n, s) -> students[n] = s, names, sexes)\n",
    "students"
   ]
  }
 ],
 "metadata": {
  "kernelspec": {
   "display_name": "Julia 1.7.3",
   "language": "julia",
   "name": "julia-1.7"
  },
  "language_info": {
   "file_extension": ".jl",
   "mimetype": "application/julia",
   "name": "julia",
   "version": "1.7.3"
  }
 },
 "nbformat": 4,
 "nbformat_minor": 5
}
