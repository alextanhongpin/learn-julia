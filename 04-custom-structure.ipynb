{
 "cells": [
  {
   "cell_type": "markdown",
   "id": "differential-veteran",
   "metadata": {},
   "source": [
    "# Custom Structure"
   ]
  },
  {
   "cell_type": "code",
   "execution_count": 2,
   "id": "technological-double",
   "metadata": {},
   "outputs": [
    {
     "data": {
      "text/plain": [
       "1-element Vector{Function}:\n",
       " format_current_cell (generic function with 1 method)"
      ]
     },
     "execution_count": 2,
     "metadata": {},
     "output_type": "execute_result"
    }
   ],
   "source": [
    "using JupyterFormatter\n",
    "enable_autoformat()"
   ]
  },
  {
   "cell_type": "code",
   "execution_count": 3,
   "id": "early-chamber",
   "metadata": {},
   "outputs": [],
   "source": [
    "mutable struct MyOwnType\n",
    "    property1::Any\n",
    "    property2::String\n",
    "end"
   ]
  },
  {
   "cell_type": "code",
   "execution_count": 4,
   "id": "comic-meaning",
   "metadata": {},
   "outputs": [
    {
     "data": {
      "text/plain": [
       "MyOwnType(\"john\", \"hi\")"
      ]
     },
     "execution_count": 4,
     "metadata": {},
     "output_type": "execute_result"
    }
   ],
   "source": [
    "t = MyOwnType(\"john\", \"hi\")\n",
    "t"
   ]
  },
  {
   "cell_type": "code",
   "execution_count": 5,
   "id": "fantastic-uruguay",
   "metadata": {},
   "outputs": [
    {
     "data": {
      "text/plain": [
       "(\"john\", \"hi\")"
      ]
     },
     "execution_count": 5,
     "metadata": {},
     "output_type": "execute_result"
    }
   ],
   "source": [
    "t.property1, t.property2"
   ]
  },
  {
   "cell_type": "code",
   "execution_count": 6,
   "id": "executive-drive",
   "metadata": {},
   "outputs": [
    {
     "data": {
      "text/plain": [
       "MyOwnType(1, \"hi\")"
      ]
     },
     "execution_count": 6,
     "metadata": {},
     "output_type": "execute_result"
    }
   ],
   "source": [
    "t.property1 = 1\n",
    "t"
   ]
  },
  {
   "cell_type": "code",
   "execution_count": 8,
   "id": "addressed-library",
   "metadata": {},
   "outputs": [],
   "source": [
    "mutable struct MyOwnType2{T<:Number}\n",
    "    property1::T\n",
    "    property2::String\n",
    "end"
   ]
  },
  {
   "cell_type": "code",
   "execution_count": 10,
   "id": "comparative-calcium",
   "metadata": {},
   "outputs": [
    {
     "data": {
      "text/plain": [
       "MyOwnType2{Float64}(10.1, \"world\")"
      ]
     },
     "execution_count": 10,
     "metadata": {},
     "output_type": "execute_result"
    }
   ],
   "source": [
    "MyOwnType2(10.1, \"world\")"
   ]
  },
  {
   "cell_type": "markdown",
   "id": "spoken-formation",
   "metadata": {},
   "source": [
    "## Implementing OOP"
   ]
  },
  {
   "cell_type": "code",
   "execution_count": 14,
   "id": "complimentary-sullivan",
   "metadata": {},
   "outputs": [
    {
     "data": {
      "text/plain": [
       "printPerson (generic function with 1 method)"
      ]
     },
     "execution_count": 14,
     "metadata": {},
     "output_type": "execute_result"
    }
   ],
   "source": [
    "struct Person\n",
    "    name::String\n",
    "    age::Int64\n",
    "end\n",
    "\n",
    "function printPerson(self::Person)\n",
    "    println(\"I am $(self.age) years old\")\n",
    "end"
   ]
  },
  {
   "cell_type": "code",
   "execution_count": 15,
   "id": "muslim-coaching",
   "metadata": {},
   "outputs": [
    {
     "name": "stdout",
     "output_type": "stream",
     "text": [
      "I am 13 years old\n"
     ]
    }
   ],
   "source": [
    "alice = Person(\"Alice\", 13)\n",
    "printPerson(alice)"
   ]
  },
  {
   "cell_type": "markdown",
   "id": "comparative-signature",
   "metadata": {},
   "source": [
    "## More on types"
   ]
  },
  {
   "cell_type": "code",
   "execution_count": 16,
   "id": "abandoned-configuration",
   "metadata": {},
   "outputs": [
    {
     "data": {
      "text/plain": [
       "(:name, :age)"
      ]
     },
     "execution_count": 16,
     "metadata": {},
     "output_type": "execute_result"
    }
   ],
   "source": [
    "fieldnames(Person)"
   ]
  },
  {
   "cell_type": "code",
   "execution_count": 17,
   "id": "continued-status",
   "metadata": {},
   "outputs": [
    {
     "data": {
      "text/plain": [
       "true"
      ]
     },
     "execution_count": 17,
     "metadata": {},
     "output_type": "execute_result"
    }
   ],
   "source": [
    "isa(alice, Person)"
   ]
  },
  {
   "cell_type": "code",
   "execution_count": 18,
   "id": "powered-somerset",
   "metadata": {},
   "outputs": [
    {
     "data": {
      "text/plain": [
       "Person"
      ]
     },
     "execution_count": 18,
     "metadata": {},
     "output_type": "execute_result"
    }
   ],
   "source": [
    "typeof(alice)"
   ]
  },
  {
   "cell_type": "code",
   "execution_count": 19,
   "id": "ambient-airplane",
   "metadata": {},
   "outputs": [
    {
     "data": {
      "text/plain": [
       "Any"
      ]
     },
     "execution_count": 19,
     "metadata": {},
     "output_type": "execute_result"
    }
   ],
   "source": [
    "supertype(Person)"
   ]
  },
  {
   "cell_type": "code",
   "execution_count": 20,
   "id": "arctic-semiconductor",
   "metadata": {},
   "outputs": [
    {
     "data": {
      "text/plain": [
       "Type[]"
      ]
     },
     "execution_count": 20,
     "metadata": {},
     "output_type": "execute_result"
    }
   ],
   "source": [
    "subtypes(Person)"
   ]
  },
  {
   "cell_type": "code",
   "execution_count": null,
   "id": "fifty-accommodation",
   "metadata": {},
   "outputs": [],
   "source": []
  }
 ],
 "metadata": {
  "kernelspec": {
   "display_name": "Julia 1.7.3",
   "language": "julia",
   "name": "julia-1.7"
  },
  "language_info": {
   "file_extension": ".jl",
   "mimetype": "application/julia",
   "name": "julia",
   "version": "1.7.3"
  }
 },
 "nbformat": 4,
 "nbformat_minor": 5
}
